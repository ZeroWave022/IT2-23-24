{
 "cells": [
  {
   "cell_type": "markdown",
   "metadata": {},
   "source": [
    "# Plotting\n",
    "\n",
    "Eksempel 1: Plotting av verdier med linje"
   ]
  },
  {
   "cell_type": "code",
   "execution_count": null,
   "metadata": {},
   "outputs": [],
   "source": [
    "import matplotlib.pyplot as plt\n",
    "\n",
    "x_values = [1, 2, 3, 4, 5, 6, 7, 8, 9, 10]\n",
    "y_values = [191, 2390, 39845, 123, 5843, 874, 7834, 70, 7825, 7124]\n",
    "\n",
    "plt.plot(x_values, y_values, linestyle=\":\", marker=\"o\")\n",
    "\n",
    "# Hvis både x- og y-aksen skal begrenses, bruk:\n",
    "# plt.axis([x_min, x_max, y_min, y_max])\n",
    "\n",
    "plt.xlim([1, 10])\n",
    "plt.show()"
   ]
  },
  {
   "cell_type": "markdown",
   "metadata": {},
   "source": [
    "Eksempel 2: Bar chart"
   ]
  },
  {
   "cell_type": "code",
   "execution_count": null,
   "metadata": {},
   "outputs": [],
   "source": [
    "land = [\"Chile\", \"Norge\", \"Brasil\", \"Polen\", \"Frankrike\"]\n",
    "verdier = [25.8, 32.5, 66.1, 29.2, 54.6]\n",
    "\n",
    "# Sorter to separate lister og re-assign variablene\n",
    "sortert_data = sorted(zip(land, verdier), key=lambda elem: elem[1])\n",
    "land = [land[0] for land in sortert_data]\n",
    "verdier = [land[1] for land in sortert_data]\n",
    "\n",
    "colors = []\n",
    "\n",
    "# Sett farger for ulike verdier\n",
    "for verdi in verdier:\n",
    "    if verdi > 50:\n",
    "        colors.append(\"orangered\")\n",
    "    elif verdi > 30:\n",
    "        colors.append(\"orange\")\n",
    "    else:\n",
    "        colors.append(\"forestgreen\")\n",
    "\n",
    "plt.bar(land, verdier, color=colors)\n",
    "plt.show()"
   ]
  },
  {
   "cell_type": "markdown",
   "metadata": {},
   "source": [
    "Eksempel 3: Bruk av data fra JSON-fil"
   ]
  },
  {
   "cell_type": "code",
   "execution_count": null,
   "metadata": {},
   "outputs": [],
   "source": [
    "import matplotlib.pyplot as plt\n",
    "import json\n",
    "\n",
    "with open(\"./countries.json\", encoding=\"utf-8\") as f:\n",
    "    data = json.load(f)\n",
    "\n",
    "continents = {}\n",
    "\n",
    "for country in data:\n",
    "    if country[\"continent\"] in continents:\n",
    "        continents[country[\"continent\"]] += 1\n",
    "    else:\n",
    "        continents[country[\"continent\"]] = 1\n",
    "\n",
    "plt.bar(continents.keys(), continents.values())\n",
    "plt.title(\"Verdensdeler på lista over top 30 land med størst befolkning\")\n",
    "plt.xlabel(\"Verdensdel\")\n",
    "plt.ylabel(\"Antall land\")\n",
    "plt.show()"
   ]
  }
 ],
 "metadata": {
  "kernelspec": {
   "display_name": "Python 3",
   "language": "python",
   "name": "python3"
  },
  "language_info": {
   "codemirror_mode": {
    "name": "ipython",
    "version": 3
   },
   "file_extension": ".py",
   "mimetype": "text/x-python",
   "name": "python",
   "nbconvert_exporter": "python",
   "pygments_lexer": "ipython3",
   "version": "3.11.3"
  }
 },
 "nbformat": 4,
 "nbformat_minor": 2
}
